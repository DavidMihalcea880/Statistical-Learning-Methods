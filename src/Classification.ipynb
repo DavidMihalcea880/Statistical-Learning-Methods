{
 "cells": [
  {
   "cell_type": "code",
   "execution_count": 16,
   "id": "a2ecb849",
   "metadata": {},
   "outputs": [],
   "source": [
    "import numpy as np\n",
    "import pandas as pd\n",
    "from sklearn.neighbors import KNeighborsClassifier \n",
    "import os\n",
    "import matplotlib as plt\n",
    "from sklearn import metrics\n",
    "from sklearn.linear_model import LogisticRegression\n",
    "from sklearn.preprocessing import MinMaxScaler\n",
    "from sklearn.metrics import confusion_matrix\n",
    "import seaborn as sns"
   ]
  },
  {
   "cell_type": "code",
   "execution_count": 17,
   "id": "77c078fd",
   "metadata": {},
   "outputs": [],
   "source": [
    "os.chdir(r'C:\\Users\\david\\OneDrive\\Cranfield_matlab_ref\\Statistical_Learning\\Assignment\\data')\n",
    "Traindata = pd.read_csv('train_selected.csv')\n",
    "Traindata.columns = ['ID', 'Cycle', 'S1', 'S2', 'S3', 'S4', 'ttf', 'failure Classification']\n",
    "xtrain = Traindata.drop(['ID','Cycle','ttf', 'failure Classification'], axis=1).values\n",
    "ytrain = Traindata['failure Classification'].values"
   ]
  },
  {
   "cell_type": "code",
   "execution_count": 18,
   "id": "f91b54c1",
   "metadata": {},
   "outputs": [],
   "source": [
    "Testdata = pd.read_csv('test_selected_ttf.csv')\n",
    "Testdata.columns = ['ID', 'Cycle', 'S1', 'S2', 'S3', 'S4', 'ttf', 'label bnc']\n",
    "xtest = Testdata.drop(['ID','Cycle','ttf', 'label bnc'], axis=1).values\n",
    "ytest = Testdata['label bnc'].values"
   ]
  },
  {
   "cell_type": "code",
   "execution_count": 19,
   "id": "7ed25b2f",
   "metadata": {},
   "outputs": [],
   "source": [
    "x = np.array(xtrain)\n",
    "xtest = np.array(xtest)\n",
    "scaler = MinMaxScaler()\n",
    "x_norm = scaler.fit_transform(x)\n",
    "xtest_norm = scaler.fit_transform(xtest)"
   ]
  },
  {
   "cell_type": "code",
   "execution_count": 21,
   "id": "e0942660",
   "metadata": {},
   "outputs": [],
   "source": [
    "model_name_Knn = 'K_Nearest Neighbor Classifier'\n",
    "Knn_model = KNeighborsClassifier(n_neighbors = 30, metric = 'minkowski', p=1)\n",
    "Knn_model.fit(xtrain, ytrain)\n",
    "y_pred_knn = Knn_model.predict(xtest)\n",
    "y_pred_knn_train = Knn_model.predict(xtrain)\n",
    "#40-100 neighbours is the best to consider."
   ]
  },
  {
   "cell_type": "code",
   "execution_count": 22,
   "id": "df39dc74",
   "metadata": {},
   "outputs": [
    {
     "name": "stdout",
     "output_type": "stream",
     "text": [
      "Accuracy: 0.9\n"
     ]
    }
   ],
   "source": [
    "print('Accuracy:', metrics.accuracy_score(ytest, y_pred_knn))"
   ]
  },
  {
   "cell_type": "code",
   "execution_count": 41,
   "id": "41f9953a",
   "metadata": {},
   "outputs": [
    {
     "name": "stdout",
     "output_type": "stream",
     "text": [
      "Accuracy: 0.946388754241396\n"
     ]
    }
   ],
   "source": [
    "print('Accuracy:', metrics.accuracy_score(ytrain, y_pred_knn_train))"
   ]
  },
  {
   "cell_type": "code",
   "execution_count": 43,
   "id": "adb82527",
   "metadata": {},
   "outputs": [
    {
     "name": "stdout",
     "output_type": "stream",
     "text": [
      "[[17153   377]\n",
      " [  729  2371]]\n"
     ]
    },
    {
     "data": {
      "text/plain": [
       "<AxesSubplot: >"
      ]
     },
     "execution_count": 43,
     "metadata": {},
     "output_type": "execute_result"
    },
    {
     "data": {
      "image/png": "[encoded data removed]",
      "text/plain": [
       "<Figure size 432x288 with 2 Axes>"
      ]
     },
     "metadata": {
      "needs_background": "light"
     },
     "output_type": "display_data"
    }
   ],
   "source": [
    "kn_train = confusion_matrix(ytrain, y_pred_knn_train, labels=[0,1])\n",
    "print(kn_train)\n",
    "sns.heatmap(kn_train, cmap = 'Blues', annot = True)"
   ]
  },
  {
   "cell_type": "code",
   "execution_count": 24,
   "id": "f5570803",
   "metadata": {},
   "outputs": [
    {
     "name": "stdout",
     "output_type": "stream",
     "text": [
      "[[74  1]\n",
      " [ 9 16]]\n"
     ]
    },
    {
     "data": {
      "text/plain": [
       "<AxesSubplot: >"
      ]
     },
     "execution_count": 24,
     "metadata": {},
     "output_type": "execute_result"
    },
    {
     "data": {
      "image/png": "[encoded data removed]",
      "text/plain": [
       "<Figure size 432x288 with 2 Axes>"
      ]
     },
     "metadata": {
      "needs_background": "light"
     },
     "output_type": "display_data"
    }
   ],
   "source": [
    "kn = confusion_matrix(ytest, y_pred_knn, labels=[0,1])\n",
    "print(kn)\n",
    "sns.heatmap(kn, cmap = 'Reds', annot = True)"
   ]
  },
  {
   "cell_type": "code",
   "execution_count": 25,
   "id": "971d3c70",
   "metadata": {},
   "outputs": [],
   "source": [
    "from sklearn.naive_bayes import MultinomialNB"
   ]
  },
  {
   "cell_type": "code",
   "execution_count": 26,
   "id": "e3268913",
   "metadata": {},
   "outputs": [],
   "source": [
    "model_name_Bayes= 'Naive Bayes Classifier'\n",
    "nbClassifier_model= MultinomialNB(alpha=1.0, class_prior = None, fit_prior=True)\n",
    "nbClassifier_model.fit(x_norm, ytrain)\n",
    "y_pred_bayes = nbClassifier_model.predict(xtest_norm)"
   ]
  },
  {
   "cell_type": "code",
   "execution_count": 27,
   "id": "d79c211e",
   "metadata": {},
   "outputs": [
    {
     "name": "stdout",
     "output_type": "stream",
     "text": [
      "Accuracy: 0.75\n"
     ]
    }
   ],
   "source": [
    "print('Accuracy:', metrics.accuracy_score(ytest, y_pred_bayes))"
   ]
  },
  {
   "cell_type": "code",
   "execution_count": 31,
   "id": "f380ef05",
   "metadata": {},
   "outputs": [],
   "source": [
    "from sklearn.svm import SVC\n",
    "model_name_SVM = 'Kernel SVM Classifier'\n",
    "svmClassifier = SVC(kernel='rbf', gamma = 'auto')\n",
    "svm_model = svmClassifier\n",
    "svm_model.fit(xtrain, ytrain)\n",
    "y_pred_svm = svm_model.predict(xtest)\n",
    "y_p_svm_train = svm_model.predict(xtrain)"
   ]
  },
  {
   "cell_type": "code",
   "execution_count": 33,
   "id": "3f1db2df",
   "metadata": {},
   "outputs": [
    {
     "name": "stdout",
     "output_type": "stream",
     "text": [
      "Accuracy: 0.89\n"
     ]
    }
   ],
   "source": [
    "print('Accuracy:', metrics.accuracy_score(ytest, y_pred_svm))"
   ]
  },
  {
   "cell_type": "code",
   "execution_count": 44,
   "id": "d5e6658c",
   "metadata": {},
   "outputs": [
    {
     "name": "stdout",
     "output_type": "stream",
     "text": [
      "Accuracy: 0.9447406689287445\n"
     ]
    }
   ],
   "source": [
    "print('Accuracy:', metrics.accuracy_score(ytrain, y_p_svm_train))"
   ]
  },
  {
   "cell_type": "code",
   "execution_count": 45,
   "id": "f8d79bc1",
   "metadata": {},
   "outputs": [
    {
     "name": "stdout",
     "output_type": "stream",
     "text": [
      "[[17126   404]\n",
      " [  736  2364]]\n"
     ]
    },
    {
     "data": {
      "text/plain": [
       "<AxesSubplot: >"
      ]
     },
     "execution_count": 45,
     "metadata": {},
     "output_type": "execute_result"
    },
    {
     "data": {
      "image/png": "[encoded data removed]",
      "text/plain": [
       "<Figure size 432x288 with 2 Axes>"
      ]
     },
     "metadata": {
      "needs_background": "light"
     },
     "output_type": "display_data"
    }
   ],
   "source": [
    "svm_train = confusion_matrix(ytrain, y_p_svm_train, labels=[0,1])\n",
    "print(svm_train)\n",
    "sns.heatmap(svm_train, cmap = 'Blues', annot = True)"
   ]
  },
  {
   "cell_type": "code",
   "execution_count": 14,
   "id": "1acca977",
   "metadata": {},
   "outputs": [
    {
     "name": "stdout",
     "output_type": "stream",
     "text": [
      "[[74  1]\n",
      " [ 9 16]]\n"
     ]
    },
    {
     "data": {
      "text/plain": [
       "<AxesSubplot: >"
      ]
     },
     "execution_count": 14,
     "metadata": {},
     "output_type": "execute_result"
    },
    {
     "data": {
      "image/png": "[encoded data removed]",
      "text/plain": [
       "<Figure size 432x288 with 2 Axes>"
      ]
     },
     "metadata": {
      "needs_background": "light"
     },
     "output_type": "display_data"
    }
   ],
   "source": [
    "sv = confusion_matrix(ytest, y_pred_svm, labels=[0,1])\n",
    "print(kn)\n",
    "sns.heatmap(sv, cmap = 'Greens', annot = True)"
   ]
  },
  {
   "cell_type": "code",
   "execution_count": 38,
   "id": "506ab438",
   "metadata": {},
   "outputs": [],
   "source": [
    "model_logisic = 'Logistic Regression Classifier'\n",
    "lgc = LogisticRegression(random_state=0, multi_class = 'auto', solver='lbfgs', max_iter=1000)\n",
    "lgc.fit(xtrain, ytrain)\n",
    "y_pred_lgc = lgc.predict(xtest)\n",
    "y_pred_lgc_t = lgc.predict(xtrain)"
   ]
  },
  {
   "cell_type": "code",
   "execution_count": 39,
   "id": "bd1fcef1",
   "metadata": {},
   "outputs": [
    {
     "name": "stdout",
     "output_type": "stream",
     "text": [
      "Accuracy 0.89\n"
     ]
    }
   ],
   "source": [
    "print('Accuracy:', metrics.accuracy_score(ytest, y_pred_lgc))"
   ]
  },
  {
   "cell_type": "code",
   "execution_count": 46,
   "id": "c01657ad",
   "metadata": {},
   "outputs": [
    {
     "name": "stdout",
     "output_type": "stream",
     "text": [
      "Accuracy: 0.9472127968977218\n"
     ]
    }
   ],
   "source": [
    "print('Accuracy:', metrics.accuracy_score(ytrain, y_pred_lgc_t))"
   ]
  },
  {
   "cell_type": "code",
   "execution_count": 47,
   "id": "bd3ef069",
   "metadata": {},
   "outputs": [
    {
     "name": "stdout",
     "output_type": "stream",
     "text": [
      "[[17095   435]\n",
      " [  654  2446]]\n"
     ]
    },
    {
     "data": {
      "text/plain": [
       "<AxesSubplot: >"
      ]
     },
     "execution_count": 47,
     "metadata": {},
     "output_type": "execute_result"
    },
    {
     "data": {
      "image/png": "[encoded data removed]",
      "text/plain": [
       "<Figure size 432x288 with 2 Axes>"
      ]
     },
     "metadata": {
      "needs_background": "light"
     },
     "output_type": "display_data"
    }
   ],
   "source": [
    "y_pred_lgc_t = confusion_matrix(ytrain, y_pred_lgc_t, labels=[0,1])\n",
    "print(y_pred_lgc_t)\n",
    "sns.heatmap(y_pred_lgc_t, cmap = 'Blues', annot = True)"
   ]
  },
  {
   "cell_type": "code",
   "execution_count": 116,
   "id": "78b24d74",
   "metadata": {},
   "outputs": [
    {
     "name": "stdout",
     "output_type": "stream",
     "text": [
      "[[68  7]\n",
      " [ 4 21]]\n"
     ]
    },
    {
     "data": {
      "text/plain": [
       "<AxesSubplot: >"
      ]
     },
     "execution_count": 116,
     "metadata": {},
     "output_type": "execute_result"
    },
    {
     "data": {
      "image/png": "[encoded data removed]",
      "text/plain": [
       "<Figure size 432x288 with 2 Axes>"
      ]
     },
     "metadata": {
      "needs_background": "light"
     },
     "output_type": "display_data"
    }
   ],
   "source": [
    "log = confusion_matrix(ytest, y_pred_lgc, labels=[0,1])\n",
    "print(log)\n",
    "sns.heatmap(log, cmap = 'Greens', annot = True)"
   ]
  },
  {
   "cell_type": "code",
   "execution_count": null,
   "id": "c0989429",
   "metadata": {},
   "outputs": [],
   "source": []
  }
 ],
 "metadata": {
  "kernelspec": {
   "display_name": "Python 3 (ipykernel)",
   "language": "python",
   "name": "python3"
  },
  "language_info": {
   "codemirror_mode": {
    "name": "ipython",
    "version": 3
   },
   "file_extension": ".py",
   "mimetype": "text/x-python",
   "name": "python",
   "nbconvert_exporter": "python",
   "pygments_lexer": "ipython3",
   "version": "3.10.0"
  }
 },
 "nbformat": 4,
 "nbformat_minor": 5
}
