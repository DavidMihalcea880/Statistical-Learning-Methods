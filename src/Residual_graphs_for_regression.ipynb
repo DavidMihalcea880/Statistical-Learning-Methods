{
 "cells": [
  {
   "cell_type": "code",
   "execution_count": 1,
   "id": "f4a48535",
   "metadata": {},
   "outputs": [],
   "source": [
    "import pandas as pd\n",
    "import numpy as np\n",
    "from sklearn import linear_model\n",
    "from sklearn.linear_model import LinearRegression\n",
    "from sklearn.metrics import r2_score, mean_squared_error\n",
    "import matplotlib.pyplot as plt\n",
    "from sklearn.preprocessing import MinMaxScaler\n",
    "from sklearn.tree import DecisionTreeRegressor, DecisionTreeClassifier, export_graphviz\n",
    "from sklearn import metrics\n",
    "from sklearn.preprocessing import StandardScaler"
   ]
  },
  {
   "cell_type": "code",
   "execution_count": 2,
   "id": "52a53f65",
   "metadata": {},
   "outputs": [],
   "source": [
    "train_data = pd.read_csv('data/train_selected.csv')\n",
    "train_data.columns = ['ID', 'Cycle', 'S1','S2','S3','S4','ttf', 'label bnc']\n",
    "xtrain = train_data.drop([ 'ID','S2', 'S4','ttf', 'label bnc'], axis=1).values\n",
    "ytrain = train_data['ttf'].values"
   ]
  },
  {
   "cell_type": "code",
   "execution_count": 3,
   "id": "4a375b80",
   "metadata": {},
   "outputs": [],
   "source": [
    "test_data = pd.read_csv('data/test_selected_ttf.csv')\n",
    "test_data.columns = ['ID', 'Cycle', 'S1','S2','S3','S4','ttf', 'label bnc']\n",
    "xtest = test_data.drop(['ID','S2','S4','ttf', 'label bnc'], axis=1).values\n",
    "ytest = test_data['ttf'].values"
   ]
  },
  {
   "cell_type": "code",
   "execution_count": 4,
   "id": "80707fc9",
   "metadata": {},
   "outputs": [],
   "source": [
    "x = np.array(xtrain)\n",
    "xt = np.array(xtest)\n",
    "scaler = MinMaxScaler()\n",
    "x_norm = scaler.fit_transform(x)\n",
    "xtest_norm = scaler.fit_transform(xt)"
   ]
  },
  {
   "cell_type": "code",
   "execution_count": 5,
   "id": "55fb7670",
   "metadata": {},
   "outputs": [],
   "source": [
    "def plot_residual(model, ytrain, y_pred_train, ytest, y_pred_test):\n",
    "    \n",
    "    \"\"\"Print the regression residuals.\n",
    "    \n",
    "    Args:\n",
    "        model (str): The model name identifier\n",
    "        y_train (series): The training labels\n",
    "        y_train_pred (series): Predictions on training data\n",
    "        y_test (series): The test labels\n",
    "        y_test_pred (series): Predictions on test data\n",
    "        \n",
    "    Returns:\n",
    "        Plot of regression residuals\n",
    "    \n",
    "    \"\"\"\n",
    "    \n",
    "    plt.scatter(y_pred_train, y_pred_train - ytrain, c='blue', marker='o', label='Training data')\n",
    "    plt.scatter(y_pred_test, y_pred_test - ytest, c='lightgreen', marker='s', label='Test data')\n",
    "    plt.xlabel('Predicted Values')\n",
    "    plt.ylabel('Residuals')\n",
    "    plt.legend(loc='upper left')\n",
    "   # plt.hlines(y=0, xmin=-50, xmax=400, color='red', lw=2)\n",
    "    plt.title(model + ' Residuals')\n",
    "    plt.show()"
   ]
  },
  {
   "cell_type": "code",
   "execution_count": 6,
   "id": "790d624b",
   "metadata": {},
   "outputs": [
    {
     "data": {
      "text/html": [
       "<style>#sk-container-id-1 {color: black;background-color: white;}#sk-container-id-1 pre{padding: 0;}#sk-container-id-1 div.sk-toggleable {background-color: white;}#sk-container-id-1 label.sk-toggleable__label {cursor: pointer;display: block;width: 100%;margin-bottom: 0;padding: 0.3em;box-sizing: border-box;text-align: center;}#sk-container-id-1 label.sk-toggleable__label-arrow:before {content: \"▸\";float: left;margin-right: 0.25em;color: #696969;}#sk-container-id-1 label.sk-toggleable__label-arrow:hover:before {color: black;}#sk-container-id-1 div.sk-estimator:hover label.sk-toggleable__label-arrow:before {color: black;}#sk-container-id-1 div.sk-toggleable__content {max-height: 0;max-width: 0;overflow: hidden;text-align: left;background-color: #f0f8ff;}#sk-container-id-1 div.sk-toggleable__content pre {margin: 0.2em;color: black;border-radius: 0.25em;background-color: #f0f8ff;}#sk-container-id-1 input.sk-toggleable__control:checked~div.sk-toggleable__content {max-height: 200px;max-width: 100%;overflow: auto;}#sk-container-id-1 input.sk-toggleable__control:checked~label.sk-toggleable__label-arrow:before {content: \"▾\";}#sk-container-id-1 div.sk-estimator input.sk-toggleable__control:checked~label.sk-toggleable__label {background-color: #d4ebff;}#sk-container-id-1 div.sk-label input.sk-toggleable__control:checked~label.sk-toggleable__label {background-color: #d4ebff;}#sk-container-id-1 input.sk-hidden--visually {border: 0;clip: rect(1px 1px 1px 1px);clip: rect(1px, 1px, 1px, 1px);height: 1px;margin: -1px;overflow: hidden;padding: 0;position: absolute;width: 1px;}#sk-container-id-1 div.sk-estimator {font-family: monospace;background-color: #f0f8ff;border: 1px dotted black;border-radius: 0.25em;box-sizing: border-box;margin-bottom: 0.5em;}#sk-container-id-1 div.sk-estimator:hover {background-color: #d4ebff;}#sk-container-id-1 div.sk-parallel-item::after {content: \"\";width: 100%;border-bottom: 1px solid gray;flex-grow: 1;}#sk-container-id-1 div.sk-label:hover label.sk-toggleable__label {background-color: #d4ebff;}#sk-container-id-1 div.sk-serial::before {content: \"\";position: absolute;border-left: 1px solid gray;box-sizing: border-box;top: 0;bottom: 0;left: 50%;z-index: 0;}#sk-container-id-1 div.sk-serial {display: flex;flex-direction: column;align-items: center;background-color: white;padding-right: 0.2em;padding-left: 0.2em;position: relative;}#sk-container-id-1 div.sk-item {position: relative;z-index: 1;}#sk-container-id-1 div.sk-parallel {display: flex;align-items: stretch;justify-content: center;background-color: white;position: relative;}#sk-container-id-1 div.sk-item::before, #sk-container-id-1 div.sk-parallel-item::before {content: \"\";position: absolute;border-left: 1px solid gray;box-sizing: border-box;top: 0;bottom: 0;left: 50%;z-index: -1;}#sk-container-id-1 div.sk-parallel-item {display: flex;flex-direction: column;z-index: 1;position: relative;background-color: white;}#sk-container-id-1 div.sk-parallel-item:first-child::after {align-self: flex-end;width: 50%;}#sk-container-id-1 div.sk-parallel-item:last-child::after {align-self: flex-start;width: 50%;}#sk-container-id-1 div.sk-parallel-item:only-child::after {width: 0;}#sk-container-id-1 div.sk-dashed-wrapped {border: 1px dashed gray;margin: 0 0.4em 0.5em 0.4em;box-sizing: border-box;padding-bottom: 0.4em;background-color: white;}#sk-container-id-1 div.sk-label label {font-family: monospace;font-weight: bold;display: inline-block;line-height: 1.2em;}#sk-container-id-1 div.sk-label-container {text-align: center;}#sk-container-id-1 div.sk-container {/* jupyter's `normalize.less` sets `[hidden] { display: none; }` but bootstrap.min.css set `[hidden] { display: none !important; }` so we also need the `!important` here to be able to override the default hidden behavior on the sphinx rendered scikit-learn.org. See: https://github.com/scikit-learn/scikit-learn/issues/21755 */display: inline-block !important;position: relative;}#sk-container-id-1 div.sk-text-repr-fallback {display: none;}</style><div id=\"sk-container-id-1\" class=\"sk-top-container\"><div class=\"sk-text-repr-fallback\"><pre>LinearRegression()</pre><b>In a Jupyter environment, please rerun this cell to show the HTML representation or trust the notebook. <br />On GitHub, the HTML representation is unable to render, please try loading this page with nbviewer.org.</b></div><div class=\"sk-container\" hidden><div class=\"sk-item\"><div class=\"sk-estimator sk-toggleable\"><input class=\"sk-toggleable__control sk-hidden--visually\" id=\"sk-estimator-id-1\" type=\"checkbox\" checked><label for=\"sk-estimator-id-1\" class=\"sk-toggleable__label sk-toggleable__label-arrow\">LinearRegression</label><div class=\"sk-toggleable__content\"><pre>LinearRegression()</pre></div></div></div></div></div>"
      ],
      "text/plain": [
       "LinearRegression()"
      ]
     },
     "execution_count": 6,
     "metadata": {},
     "output_type": "execute_result"
    }
   ],
   "source": [
    "# Multi_Linear Regression #\n",
    "ml = LinearRegression()\n",
    "ml.fit(x_norm, ytrain)"
   ]
  },
  {
   "cell_type": "code",
   "execution_count": 7,
   "id": "53cc6114",
   "metadata": {},
   "outputs": [],
   "source": [
    "y_pred_test = ml.predict(xtest_norm)\n",
    "y_pred_train = ml.predict(x_norm)"
   ]
  },
  {
   "cell_type": "code",
   "execution_count": 8,
   "id": "de0ec9ce",
   "metadata": {},
   "outputs": [
    {
     "data": {
      "text/plain": [
       "0.024882102942295314"
      ]
     },
     "execution_count": 8,
     "metadata": {},
     "output_type": "execute_result"
    }
   ],
   "source": [
    "r2_score(ytest, y_pred_test)"
   ]
  },
  {
   "cell_type": "code",
   "execution_count": 9,
   "id": "da50e9b2",
   "metadata": {},
   "outputs": [
    {
     "data": {
      "text/plain": [
       "0.6393360503642229"
      ]
     },
     "execution_count": 9,
     "metadata": {},
     "output_type": "execute_result"
    }
   ],
   "source": [
    "r2_score(ytrain, y_pred_train)"
   ]
  },
  {
   "cell_type": "code",
   "execution_count": 10,
   "id": "2bd3fc3a",
   "metadata": {},
   "outputs": [
    {
     "data": {
      "text/plain": [
       "41.03536831618402"
      ]
     },
     "execution_count": 10,
     "metadata": {},
     "output_type": "execute_result"
    }
   ],
   "source": [
    "np.sqrt(mean_squared_error(y_pred_test, ytest))"
   ]
  },
  {
   "cell_type": "code",
   "execution_count": 11,
   "id": "35c301f5",
   "metadata": {},
   "outputs": [
    {
     "data": {
      "text/plain": [
       "41.365225239291696"
      ]
     },
     "execution_count": 11,
     "metadata": {},
     "output_type": "execute_result"
    }
   ],
   "source": [
    "np.sqrt(mean_squared_error(y_pred_train, ytrain))"
   ]
  },
  {
   "cell_type": "code",
   "execution_count": 12,
   "id": "4193a370",
   "metadata": {},
   "outputs": [
    {
     "data": {
      "image/png": "[encoded data removed]",
      "text/plain": [
       "<Figure size 432x288 with 1 Axes>"
      ]
     },
     "metadata": {
      "needs_background": "light"
     },
     "output_type": "display_data"
    }
   ],
   "source": [
    "plot_residual('Multivariable Linear Regression', y_pred_train, ytrain, y_pred_test, ytest)\n",
    "# The test data outside the training data is not an anomaly just noise. "
   ]
  },
  {
   "cell_type": "code",
   "execution_count": 13,
   "id": "d18868b9",
   "metadata": {},
   "outputs": [
    {
     "data": {
      "text/plain": [
       "Text(0, 0.5, 'Predicted Y values')"
      ]
     },
     "execution_count": 13,
     "metadata": {},
     "output_type": "execute_result"
    },
    {
     "data": {
      "image/png": "[encoded data removed]",
      "text/plain": [
       "<Figure size 432x288 with 1 Axes>"
      ]
     },
     "metadata": {
      "needs_background": "light"
     },
     "output_type": "display_data"
    }
   ],
   "source": [
    "xg = test_data['Cycle'].values\n",
    "plt.scatter(xg, y_pred_test, color = 'red')\n",
    "plt.title('Y_predicted')\n",
    "plt.xlabel('Cycles')\n",
    "plt.ylabel('Predicted Y values')\n",
    "#END OF LINEAR"
   ]
  },
  {
   "cell_type": "code",
   "execution_count": 14,
   "id": "60f88944",
   "metadata": {},
   "outputs": [
    {
     "data": {
      "text/plain": [
       "<matplotlib.collections.PathCollection at 0x140febbd060>"
      ]
     },
     "execution_count": 14,
     "metadata": {},
     "output_type": "execute_result"
    },
    {
     "data": {
      "image/png": "[encoded data removed]",
      "text/plain": [
       "<Figure size 432x288 with 1 Axes>"
      ]
     },
     "metadata": {
      "needs_background": "light"
     },
     "output_type": "display_data"
    }
   ],
   "source": [
    "plt.scatter(xg, ytest, color = 'blue')\n",
    "#Actual ytest is a lot less correlated."
   ]
  },
  {
   "cell_type": "code",
   "execution_count": 15,
   "id": "7a6f6c73",
   "metadata": {},
   "outputs": [],
   "source": [
    "def plot_residual(model, ytrain, y_pred_train_n, ytest, y_pred_nonlin):\n",
    "    \n",
    "    \"\"\"Print the regression residuals.\n",
    "    \n",
    "    Args:\n",
    "        model (str): The model name identifier\n",
    "        y_train (series): The training labels\n",
    "        y_train_pred (series): Predictions on training data\n",
    "        y_test (series): The test labels\n",
    "        y_test_pred (series): Predictions on test data\n",
    "        \n",
    "    Returns:\n",
    "        Plot of regression residuals\n",
    "    \n",
    "    \"\"\"\n",
    "    \n",
    "    plt.scatter(y_pred_train_n, y_pred_train_n - ytrain, c='blue', marker='o', label='Training data')\n",
    "    plt.scatter(y_pred_nonlin, y_pred_nonlin - ytest, c='lightgreen', marker='s', label='Test data')\n",
    "    plt.xlabel('Predicted Values')\n",
    "    plt.ylabel('Residuals')\n",
    "    #plt.ylim(-5, 5)\n",
    "    plt.legend(loc='upper left')\n",
    "    #plt.hlines(y=0, xmin=-50, xmax=400, color='red', lw=2)\n",
    "    plt.title(model + ' Residuals')\n",
    "    plt.show()"
   ]
  },
  {
   "cell_type": "code",
   "execution_count": 16,
   "id": "8cdd53cf",
   "metadata": {},
   "outputs": [],
   "source": [
    "# NON_LINEAR REGRESSION #\n",
    "from sklearn.preprocessing import PolynomialFeatures\n",
    "poly = PolynomialFeatures(degree=3)\n",
    "xtrainpoly = poly.fit_transform(xtrain)\n",
    "xtestpoly = poly.fit_transform(xtest)"
   ]
  },
  {
   "cell_type": "code",
   "execution_count": 17,
   "id": "d5851717",
   "metadata": {},
   "outputs": [],
   "source": [
    "lin_reg = LinearRegression()\n",
    "mdl = lin_reg.fit(xtrainpoly, ytrain)"
   ]
  },
  {
   "cell_type": "code",
   "execution_count": 18,
   "id": "06ae003a",
   "metadata": {},
   "outputs": [],
   "source": [
    "y_pred_nonlin = lin_reg.predict(xtestpoly)\n",
    "y_pred_train_n = lin_reg.predict(xtrainpoly)"
   ]
  },
  {
   "cell_type": "code",
   "execution_count": 19,
   "id": "7a379e7a",
   "metadata": {},
   "outputs": [
    {
     "data": {
      "text/plain": [
       "0.6031304764950417"
      ]
     },
     "execution_count": 19,
     "metadata": {},
     "output_type": "execute_result"
    }
   ],
   "source": [
    "r2_score(ytest, y_pred_nonlin)\n",
    "#Better without normalising"
   ]
  },
  {
   "cell_type": "code",
   "execution_count": 20,
   "id": "f441678c",
   "metadata": {},
   "outputs": [
    {
     "data": {
      "text/plain": [
       "0.697487563799366"
      ]
     },
     "execution_count": 20,
     "metadata": {},
     "output_type": "execute_result"
    }
   ],
   "source": [
    "r2_score(ytrain, y_pred_train_n)"
   ]
  },
  {
   "cell_type": "code",
   "execution_count": 207,
   "id": "d173639b",
   "metadata": {},
   "outputs": [
    {
     "data": {
      "text/plain": [
       "26.17903579788984"
      ]
     },
     "execution_count": 207,
     "metadata": {},
     "output_type": "execute_result"
    }
   ],
   "source": [
    "np.sqrt(mean_squared_error(ytest, y_pred_nonlin))\n",
    "#better without normalised"
   ]
  },
  {
   "cell_type": "code",
   "execution_count": 208,
   "id": "5ad75313",
   "metadata": {},
   "outputs": [
    {
     "data": {
      "text/plain": [
       "37.88398385269212"
      ]
     },
     "execution_count": 208,
     "metadata": {},
     "output_type": "execute_result"
    }
   ],
   "source": [
    "np.sqrt(mean_squared_error(ytrain, y_pred_train_n))"
   ]
  },
  {
   "cell_type": "code",
   "execution_count": 81,
   "id": "ba85c4eb",
   "metadata": {},
   "outputs": [
    {
     "data": {
      "image/png": "[encoded data removed]",
      "text/plain": [
       "<Figure size 432x288 with 1 Axes>"
      ]
     },
     "metadata": {
      "needs_background": "light"
     },
     "output_type": "display_data"
    }
   ],
   "source": [
    "plot_residual('Multivariable Polynomial Regression', y_pred_train_n, ytrain, y_pred_nonlin, ytest)"
   ]
  },
  {
   "cell_type": "code",
   "execution_count": 82,
   "id": "fc3d468a",
   "metadata": {},
   "outputs": [
    {
     "data": {
      "text/plain": [
       "Text(0, 0.5, 'Predicted Non-linear Y value')"
      ]
     },
     "execution_count": 82,
     "metadata": {},
     "output_type": "execute_result"
    },
    {
     "data": {
      "image/png": "[encoded data removed]",
      "text/plain": [
       "<Figure size 432x288 with 1 Axes>"
      ]
     },
     "metadata": {
      "needs_background": "light"
     },
     "output_type": "display_data"
    }
   ],
   "source": [
    "plt.scatter(xg, y_pred_nonlin, color = 'red')\n",
    "plt.title('Y_predicted_NonLinear')\n",
    "plt.xlabel('Cycles')\n",
    "plt.ylabel('Predicted Non-linear Y value')"
   ]
  },
  {
   "cell_type": "code",
   "execution_count": 89,
   "id": "033ad2eb",
   "metadata": {},
   "outputs": [
    {
     "data": {
      "text/plain": [
       "Text(0, 0.5, 'Test Y value')"
      ]
     },
     "execution_count": 89,
     "metadata": {},
     "output_type": "execute_result"
    },
    {
     "data": {
      "image/png": "[encoded data removed]",
      "text/plain": [
       "<Figure size 432x288 with 1 Axes>"
      ]
     },
     "metadata": {
      "needs_background": "light"
     },
     "output_type": "display_data"
    }
   ],
   "source": [
    "plt.scatter(xg, ytest, color = 'blue')\n",
    "plt.title('Y_predicted_NonLinear')\n",
    "plt.xlabel('Cycles')\n",
    "plt.ylabel('Test Y value')"
   ]
  },
  {
   "cell_type": "code",
   "execution_count": 84,
   "id": "755b2fcc",
   "metadata": {},
   "outputs": [],
   "source": [
    "def plot_residual(model, ytrain, y_train_pred, ytest, y_test_pred):\n",
    "    \n",
    "    \"\"\"Print the regression residuals.\n",
    "    \n",
    "    Args:\n",
    "        model (str): The model name identifier\n",
    "        y_train (series): The training labels\n",
    "        y_train_pred (series): Predictions on training data\n",
    "        y_test (series): The test labels\n",
    "        y_test_pred (series): Predictions on test data\n",
    "        \n",
    "    Returns:\n",
    "        Plot of regression residuals\n",
    "    \n",
    "    \"\"\"\n",
    "    \n",
    "    plt.scatter(y_train_pred, y_train_pred - ytrain, c='blue', marker='o', label='Training data')\n",
    "    plt.scatter(y_test_pred, y_test_pred - ytest, c='lightgreen', marker='s', label='Test data')\n",
    "    plt.xlabel('Predicted Values')\n",
    "    plt.ylabel('Residuals')\n",
    "    plt.legend(loc='upper left')\n",
    "    #plt.hlines(y=0, xmin=-50, xmax=400, color='red', lw=2)\n",
    "    plt.title(model + ' Residuals')\n",
    "    plt.show()"
   ]
  },
  {
   "cell_type": "code",
   "execution_count": 85,
   "id": "1a9cd8a6",
   "metadata": {},
   "outputs": [],
   "source": [
    "def get_regression_metrics(model, actual, predicted):\n",
    "    \n",
    "    \"\"\"Calculate main regression metrics.\n",
    "    \n",
    "    Args:\n",
    "        model (str): The model name identifier\n",
    "        actual (series): Contains the test label values\n",
    "        predicted (series): Contains the predicted values\n",
    "        \n",
    "    Returns:\n",
    "        dataframe: The combined metrics in single dataframe\n",
    "    \n",
    "    \n",
    "    \"\"\"\n",
    "    regr_metrics = {\n",
    "                        'Root Mean Squared Error' : metrics.mean_squared_error(actual, predicted)**0.5,\n",
    "                        'Mean Absolute Error' : metrics.mean_absolute_error(actual, predicted),\n",
    "                        'R^2' : metrics.r2_score(actual, predicted),\n",
    "                        'Explained Variance' : metrics.explained_variance_score(actual, predicted)\n",
    "                   }\n",
    "\n",
    "    #return reg_metrics\n",
    "    df_regr_metrics = pd.DataFrame.from_dict(regr_metrics, orient='index')\n",
    "    df_regr_metrics.columns = [model]\n",
    "    return df_regr_metrics\n"
   ]
  },
  {
   "cell_type": "code",
   "execution_count": 216,
   "id": "169a2501",
   "metadata": {},
   "outputs": [
    {
     "name": "stdout",
     "output_type": "stream",
     "text": [
      "R^2 training: 0.673, R^2 test: 0.263\n"
     ]
    },
    {
     "data": {
      "text/html": [
       "<div>\n",
       "<style scoped>\n",
       "    .dataframe tbody tr th:only-of-type {\n",
       "        vertical-align: middle;\n",
       "    }\n",
       "\n",
       "    .dataframe tbody tr th {\n",
       "        vertical-align: top;\n",
       "    }\n",
       "\n",
       "    .dataframe thead th {\n",
       "        text-align: right;\n",
       "    }\n",
       "</style>\n",
       "<table border=\"1\" class=\"dataframe\">\n",
       "  <thead>\n",
       "    <tr style=\"text-align: right;\">\n",
       "      <th></th>\n",
       "      <th>Random Forest Regression</th>\n",
       "    </tr>\n",
       "  </thead>\n",
       "  <tbody>\n",
       "    <tr>\n",
       "      <th>Root Mean Squared Error</th>\n",
       "      <td>35.664504</td>\n",
       "    </tr>\n",
       "    <tr>\n",
       "      <th>Mean Absolute Error</th>\n",
       "      <td>28.297809</td>\n",
       "    </tr>\n",
       "    <tr>\n",
       "      <th>R^2</th>\n",
       "      <td>0.263432</td>\n",
       "    </tr>\n",
       "    <tr>\n",
       "      <th>Explained Variance</th>\n",
       "      <td>0.325509</td>\n",
       "    </tr>\n",
       "  </tbody>\n",
       "</table>\n",
       "</div>"
      ],
      "text/plain": [
       "                         Random Forest Regression\n",
       "Root Mean Squared Error                 35.664504\n",
       "Mean Absolute Error                     28.297809\n",
       "R^2                                      0.263432\n",
       "Explained Variance                       0.325509"
      ]
     },
     "execution_count": 216,
     "metadata": {},
     "output_type": "execute_result"
    }
   ],
   "source": [
    "from sklearn.ensemble import RandomForestRegressor\n",
    "#rf = RandomForestRegressor(n_estimators=100, max_features=2, max_depth=4, n_jobs=-1, random_state=1) # selected features\n",
    "rf = RandomForestRegressor(n_estimators=100, max_features=6, max_depth=3, n_jobs=-1, random_state=1) # original features\n",
    "#rf = RandomForestRegressor(n_estimators=100, max_features=3, max_depth=7, n_jobs=-1, random_state=1) # orig + extrcted \n",
    "#rf_r = RandomizedSearchCV(rf, param_dist, cv = 6)\n",
    "rf.fit(x_norm, ytrain)\n",
    "y_test_predict = rf.predict(xtest_norm)\n",
    "y_train_predict = rf.predict(x_norm)\n",
    "\n",
    "print('R^2 training: %.3f, R^2 test: %.3f' % (\n",
    "      (metrics.r2_score(ytrain, y_train_predict)), \n",
    "      (metrics.r2_score(ytest, y_test_predict))))\n",
    "\n",
    "rf_metrics = get_regression_metrics('Random Forest Regression', ytest, y_test_predict)\n",
    "rf_metrics"
   ]
  },
  {
   "cell_type": "code",
   "execution_count": 217,
   "id": "779c555d",
   "metadata": {},
   "outputs": [
    {
     "data": {
      "text/plain": [
       "39.389821955755544"
      ]
     },
     "execution_count": 217,
     "metadata": {},
     "output_type": "execute_result"
    }
   ],
   "source": [
    "np.sqrt(mean_squared_error(ytrain, y_train_predict))"
   ]
  },
  {
   "cell_type": "code",
   "execution_count": 87,
   "id": "f98313eb",
   "metadata": {},
   "outputs": [
    {
     "data": {
      "image/png": "[encoded data removed]",
      "text/plain": [
       "<Figure size 432x288 with 1 Axes>"
      ]
     },
     "metadata": {
      "needs_background": "light"
     },
     "output_type": "display_data"
    }
   ],
   "source": [
    "plot_residual('Random Forest Regression', y_train_predict, ytrain, y_test_predict, ytest)\n",
    "# residual is the variation between the actual and predicted values by the model and how the variation changes across all values."
   ]
  }
 ],
 "metadata": {
  "kernelspec": {
   "display_name": "Python 3 (ipykernel)",
   "language": "python",
   "name": "python3"
  },
  "language_info": {
   "codemirror_mode": {
    "name": "ipython",
    "version": 3
   },
   "file_extension": ".py",
   "mimetype": "text/x-python",
   "name": "python",
   "nbconvert_exporter": "python",
   "pygments_lexer": "ipython3",
   "version": "3.10.0"
  }
 },
 "nbformat": 4,
 "nbformat_minor": 5
}
