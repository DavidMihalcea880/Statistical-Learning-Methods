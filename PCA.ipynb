{
 "cells": [
  {
   "cell_type": "code",
   "execution_count": 75,
   "id": "9fe5da61",
   "metadata": {},
   "outputs": [],
   "source": [
    "import pandas as pd\n",
    "import numpy as np\n",
    "from sklearn.decomposition import PCA\n",
    "from sklearn import preprocessing\n",
    "import matplotlib.pyplot as plt\n"
   ]
  },
  {
   "cell_type": "code",
   "execution_count": 76,
   "id": "527c8152",
   "metadata": {},
   "outputs": [],
   "source": [
    "training = pd.read_csv('data/train_selected.csv')\n",
    "training.columns = ['ID', 'Cycle', 'S1','S2','S3','S4','ttf', 'label bnc']"
   ]
  },
  {
   "cell_type": "code",
   "execution_count": 77,
   "id": "ee4a8468",
   "metadata": {},
   "outputs": [],
   "source": [
    "dfx = training.drop(['ID', 'label bnc'], axis=1).values\n",
    "dfy = training['ttf'].values"
   ]
  },
  {
   "cell_type": "code",
   "execution_count": 78,
   "id": "d99c1c6b",
   "metadata": {},
   "outputs": [],
   "source": [
    "from sklearn.preprocessing import StandardScaler\n",
    "x = StandardScaler().fit_transform(dfx)"
   ]
  },
  {
   "cell_type": "code",
   "execution_count": 79,
   "id": "80d38c5c",
   "metadata": {},
   "outputs": [],
   "source": [
    "pca = PCA(n_components=6)\n",
    "principalComponents = pca.fit_transform(dfx)\n",
    "principalDataframe = pd.DataFrame(data = principalComponents, columns = ['Cycle', 'S1','S2', 'S3', 'S4', 'ttf'])"
   ]
  },
  {
   "cell_type": "code",
   "execution_count": 80,
   "id": "927aff50",
   "metadata": {},
   "outputs": [],
   "source": [
    "targetDataframe = training[['label bnc']]\n",
    "\n",
    "newDataframe = pd.concat([principalDataframe, targetDataframe],axis = 1)"
   ]
  },
  {
   "cell_type": "code",
   "execution_count": 81,
   "id": "fca1f43c",
   "metadata": {},
   "outputs": [
    {
     "data": {
      "image/png": "[encoded data removed]",
      "text/plain": [
       "<Figure size 432x288 with 1 Axes>"
      ]
     },
     "metadata": {
      "needs_background": "light"
     },
     "output_type": "display_data"
    }
   ],
   "source": [
    "percent_variance = np.round(pca.explained_variance_ratio_* 100, decimals =2)\n",
    "columns = ['Cycle', 'S1', 'S2', 'S3', 'S4', 'ttf']\n",
    "plt.bar(x= range(1,7), height=percent_variance, tick_label=columns)\n",
    "plt.ylabel('Percentate of Variance Explained')\n",
    "plt.xlabel('Principal Component')\n",
    "plt.title('PCA Plot')\n",
    "plt.show()"
   ]
  }
 ],
 "metadata": {
  "kernelspec": {
   "display_name": "Python 3 (ipykernel)",
   "language": "python",
   "name": "python3"
  },
  "language_info": {
   "codemirror_mode": {
    "name": "ipython",
    "version": 3
   },
   "file_extension": ".py",
   "mimetype": "text/x-python",
   "name": "python",
   "nbconvert_exporter": "python",
   "pygments_lexer": "ipython3",
   "version": "3.10.0"
  }
 },
 "nbformat": 4,
 "nbformat_minor": 5
}
