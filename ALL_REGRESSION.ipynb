{
 "cells": [
  {
   "cell_type": "code",
   "execution_count": 1,
   "id": "493bd1d5",
   "metadata": {},
   "outputs": [],
   "source": [
    "import pandas as pd\n",
    "import numpy as np\n",
    "from sklearn import linear_model\n",
    "from sklearn.linear_model import LinearRegression\n",
    "from sklearn.metrics import r2_score, mean_squared_error\n",
    "import matplotlib.pyplot as plt\n",
    "from sklearn.preprocessing import MinMaxScaler\n",
    "from sklearn.tree import DecisionTreeRegressor, DecisionTreeClassifier, export_graphviz\n",
    "from sklearn import metrics"
   ]
  },
  {
   "cell_type": "code",
   "execution_count": 43,
   "id": "0ba0f588",
   "metadata": {},
   "outputs": [],
   "source": [
    "train_data = pd.read_csv('data/train_selected.csv')\n",
    "train_data.columns = ['ID', 'Cycle', 'S1','S2','S3','S4','ttf', 'label bnc']\n",
    "xtrain = train_data.drop(['ID','S2','S4', 'ttf', 'label bnc'], axis=1).values\n",
    "ytrain = train_data['ttf'].values"
   ]
  },
  {
   "cell_type": "code",
   "execution_count": 44,
   "id": "09b80b74",
   "metadata": {},
   "outputs": [],
   "source": [
    "test_data = pd.read_csv('data/test_selected_ttf.csv')\n",
    "test_data.columns = ['ID', 'Cycle', 'S1','S2','S3','S4','ttf', 'label bnc']\n",
    "xtest = test_data.drop(['ID','S2','S4','ttf', 'label bnc'], axis=1).values\n",
    "ytest = test_data['ttf'].values"
   ]
  },
  {
   "cell_type": "code",
   "execution_count": 45,
   "id": "8fbeee5a",
   "metadata": {},
   "outputs": [],
   "source": [
    "x = np.array(xtrain)\n",
    "xtest = np.array(xtest)\n",
    "scaler = MinMaxScaler()\n",
    "x_norm = scaler.fit_transform(x)\n",
    "xtest_norm = scaler.fit_transform(xtest)\n"
   ]
  },
  {
   "cell_type": "code",
   "execution_count": 46,
   "id": "be45dbb4",
   "metadata": {},
   "outputs": [
    {
     "data": {
      "text/html": [
       "<style>#sk-container-id-5 {color: black;background-color: white;}#sk-container-id-5 pre{padding: 0;}#sk-container-id-5 div.sk-toggleable {background-color: white;}#sk-container-id-5 label.sk-toggleable__label {cursor: pointer;display: block;width: 100%;margin-bottom: 0;padding: 0.3em;box-sizing: border-box;text-align: center;}#sk-container-id-5 label.sk-toggleable__label-arrow:before {content: \"▸\";float: left;margin-right: 0.25em;color: #696969;}#sk-container-id-5 label.sk-toggleable__label-arrow:hover:before {color: black;}#sk-container-id-5 div.sk-estimator:hover label.sk-toggleable__label-arrow:before {color: black;}#sk-container-id-5 div.sk-toggleable__content {max-height: 0;max-width: 0;overflow: hidden;text-align: left;background-color: #f0f8ff;}#sk-container-id-5 div.sk-toggleable__content pre {margin: 0.2em;color: black;border-radius: 0.25em;background-color: #f0f8ff;}#sk-container-id-5 input.sk-toggleable__control:checked~div.sk-toggleable__content {max-height: 200px;max-width: 100%;overflow: auto;}#sk-container-id-5 input.sk-toggleable__control:checked~label.sk-toggleable__label-arrow:before {content: \"▾\";}#sk-container-id-5 div.sk-estimator input.sk-toggleable__control:checked~label.sk-toggleable__label {background-color: #d4ebff;}#sk-container-id-5 div.sk-label input.sk-toggleable__control:checked~label.sk-toggleable__label {background-color: #d4ebff;}#sk-container-id-5 input.sk-hidden--visually {border: 0;clip: rect(1px 1px 1px 1px);clip: rect(1px, 1px, 1px, 1px);height: 1px;margin: -1px;overflow: hidden;padding: 0;position: absolute;width: 1px;}#sk-container-id-5 div.sk-estimator {font-family: monospace;background-color: #f0f8ff;border: 1px dotted black;border-radius: 0.25em;box-sizing: border-box;margin-bottom: 0.5em;}#sk-container-id-5 div.sk-estimator:hover {background-color: #d4ebff;}#sk-container-id-5 div.sk-parallel-item::after {content: \"\";width: 100%;border-bottom: 1px solid gray;flex-grow: 1;}#sk-container-id-5 div.sk-label:hover label.sk-toggleable__label {background-color: #d4ebff;}#sk-container-id-5 div.sk-serial::before {content: \"\";position: absolute;border-left: 1px solid gray;box-sizing: border-box;top: 0;bottom: 0;left: 50%;z-index: 0;}#sk-container-id-5 div.sk-serial {display: flex;flex-direction: column;align-items: center;background-color: white;padding-right: 0.2em;padding-left: 0.2em;position: relative;}#sk-container-id-5 div.sk-item {position: relative;z-index: 1;}#sk-container-id-5 div.sk-parallel {display: flex;align-items: stretch;justify-content: center;background-color: white;position: relative;}#sk-container-id-5 div.sk-item::before, #sk-container-id-5 div.sk-parallel-item::before {content: \"\";position: absolute;border-left: 1px solid gray;box-sizing: border-box;top: 0;bottom: 0;left: 50%;z-index: -1;}#sk-container-id-5 div.sk-parallel-item {display: flex;flex-direction: column;z-index: 1;position: relative;background-color: white;}#sk-container-id-5 div.sk-parallel-item:first-child::after {align-self: flex-end;width: 50%;}#sk-container-id-5 div.sk-parallel-item:last-child::after {align-self: flex-start;width: 50%;}#sk-container-id-5 div.sk-parallel-item:only-child::after {width: 0;}#sk-container-id-5 div.sk-dashed-wrapped {border: 1px dashed gray;margin: 0 0.4em 0.5em 0.4em;box-sizing: border-box;padding-bottom: 0.4em;background-color: white;}#sk-container-id-5 div.sk-label label {font-family: monospace;font-weight: bold;display: inline-block;line-height: 1.2em;}#sk-container-id-5 div.sk-label-container {text-align: center;}#sk-container-id-5 div.sk-container {/* jupyter's `normalize.less` sets `[hidden] { display: none; }` but bootstrap.min.css set `[hidden] { display: none !important; }` so we also need the `!important` here to be able to override the default hidden behavior on the sphinx rendered scikit-learn.org. See: https://github.com/scikit-learn/scikit-learn/issues/21755 */display: inline-block !important;position: relative;}#sk-container-id-5 div.sk-text-repr-fallback {display: none;}</style><div id=\"sk-container-id-5\" class=\"sk-top-container\"><div class=\"sk-text-repr-fallback\"><pre>LinearRegression()</pre><b>In a Jupyter environment, please rerun this cell to show the HTML representation or trust the notebook. <br />On GitHub, the HTML representation is unable to render, please try loading this page with nbviewer.org.</b></div><div class=\"sk-container\" hidden><div class=\"sk-item\"><div class=\"sk-estimator sk-toggleable\"><input class=\"sk-toggleable__control sk-hidden--visually\" id=\"sk-estimator-id-5\" type=\"checkbox\" checked><label for=\"sk-estimator-id-5\" class=\"sk-toggleable__label sk-toggleable__label-arrow\">LinearRegression</label><div class=\"sk-toggleable__content\"><pre>LinearRegression()</pre></div></div></div></div></div>"
      ],
      "text/plain": [
       "LinearRegression()"
      ]
     },
     "execution_count": 46,
     "metadata": {},
     "output_type": "execute_result"
    }
   ],
   "source": [
    "# Multi_Linear Regression #\n",
    "ml = LinearRegression()\n",
    "ml.fit(xtrain, ytrain)"
   ]
  },
  {
   "cell_type": "code",
   "execution_count": 57,
   "id": "130a8d1d",
   "metadata": {},
   "outputs": [],
   "source": [
    "y_pred = ml.predict(xtest_norm)\n",
    "y = ml.predict(x_norm)"
   ]
  },
  {
   "cell_type": "code",
   "execution_count": 48,
   "id": "4466d34a",
   "metadata": {},
   "outputs": [
    {
     "data": {
      "text/plain": [
       "0.5161104874772009"
      ]
     },
     "execution_count": 48,
     "metadata": {},
     "output_type": "execute_result"
    }
   ],
   "source": [
    "r2_score(y_pred, ytest)"
   ]
  },
  {
   "cell_type": "code",
   "execution_count": 49,
   "id": "8d725119",
   "metadata": {},
   "outputs": [
    {
     "data": {
      "text/plain": [
       "0.4358773458335218"
      ]
     },
     "execution_count": 49,
     "metadata": {},
     "output_type": "execute_result"
    }
   ],
   "source": [
    "r2_score(y, ytrain)"
   ]
  },
  {
   "cell_type": "code",
   "execution_count": 34,
   "id": "9b875365",
   "metadata": {},
   "outputs": [
    {
     "data": {
      "text/plain": [
       "32.36007396928711"
      ]
     },
     "execution_count": 34,
     "metadata": {},
     "output_type": "execute_result"
    }
   ],
   "source": [
    "np.sqrt(mean_squared_error(y_pred, ytest))\n",
    "#END OF LINEAR"
   ]
  },
  {
   "cell_type": "code",
   "execution_count": 35,
   "id": "13c1ffa8",
   "metadata": {},
   "outputs": [
    {
     "data": {
      "text/plain": [
       "41.072125693772044"
      ]
     },
     "execution_count": 35,
     "metadata": {},
     "output_type": "execute_result"
    }
   ],
   "source": [
    "np.sqrt(mean_squared_error(y, ytrain))"
   ]
  },
  {
   "cell_type": "code",
   "execution_count": 58,
   "id": "643294b7",
   "metadata": {},
   "outputs": [],
   "source": [
    "# NON_LINEAR REGRESSION #\n",
    "from sklearn.preprocessing import PolynomialFeatures\n",
    "poly = PolynomialFeatures(degree=3)\n",
    "xtrainpoly = poly.fit_transform(x_norm)\n",
    "xtestpoly = poly.fit_transform(xtest_norm)"
   ]
  },
  {
   "cell_type": "code",
   "execution_count": 59,
   "id": "835087d0",
   "metadata": {},
   "outputs": [],
   "source": [
    "lin_reg = LinearRegression()\n",
    "mdl = lin_reg.fit(xtrainpoly, ytrain)"
   ]
  },
  {
   "cell_type": "code",
   "execution_count": 60,
   "id": "f54d0cee",
   "metadata": {},
   "outputs": [],
   "source": [
    "y_pred = lin_reg.predict(xtestpoly)\n",
    "yp = lin_reg.predict(xtrainpoly)"
   ]
  },
  {
   "cell_type": "code",
   "execution_count": 61,
   "id": "487f247f",
   "metadata": {},
   "outputs": [
    {
     "data": {
      "text/plain": [
       "0.2793042321091993"
      ]
     },
     "execution_count": 61,
     "metadata": {},
     "output_type": "execute_result"
    }
   ],
   "source": [
    "r2_score(ytest, y_pred)\n",
    "#Better without normalising"
   ]
  },
  {
   "cell_type": "code",
   "execution_count": 62,
   "id": "5ed4d284",
   "metadata": {},
   "outputs": [
    {
     "data": {
      "text/plain": [
       "0.6974875648693123"
      ]
     },
     "execution_count": 62,
     "metadata": {},
     "output_type": "execute_result"
    }
   ],
   "source": [
    "r2_score(ytrain, yp)"
   ]
  },
  {
   "cell_type": "code",
   "execution_count": 63,
   "id": "46b38120",
   "metadata": {},
   "outputs": [
    {
     "data": {
      "text/plain": [
       "35.27814638581908"
      ]
     },
     "execution_count": 63,
     "metadata": {},
     "output_type": "execute_result"
    }
   ],
   "source": [
    "np.sqrt(mean_squared_error(ytest, y_pred))\n",
    "#better without normalised"
   ]
  },
  {
   "cell_type": "code",
   "execution_count": 64,
   "id": "c789248f",
   "metadata": {},
   "outputs": [
    {
     "data": {
      "text/plain": [
       "37.88398378569682"
      ]
     },
     "execution_count": 64,
     "metadata": {},
     "output_type": "execute_result"
    }
   ],
   "source": [
    "np.sqrt(mean_squared_error(ytrain, yp))"
   ]
  },
  {
   "cell_type": "code",
   "execution_count": 95,
   "id": "fed56cd0",
   "metadata": {},
   "outputs": [
    {
     "name": "stdout",
     "output_type": "stream",
     "text": [
      "R^2 training: 0.712, R^2 test: 0.107\n"
     ]
    },
    {
     "ename": "NameError",
     "evalue": "name 'y_test' is not defined",
     "output_type": "error",
     "traceback": [
      "\u001b[1;31m---------------------------------------------------------------------------\u001b[0m",
      "\u001b[1;31mNameError\u001b[0m                                 Traceback (most recent call last)",
      "Input \u001b[1;32mIn [95]\u001b[0m, in \u001b[0;36m<cell line: 37>\u001b[1;34m()\u001b[0m\n\u001b[0;32m     31\u001b[0m y_train_predict \u001b[38;5;241m=\u001b[39m dtrg\u001b[38;5;241m.\u001b[39mpredict(x_norm)\n\u001b[0;32m     33\u001b[0m \u001b[38;5;28mprint\u001b[39m(\u001b[38;5;124m'\u001b[39m\u001b[38;5;124mR^2 training: \u001b[39m\u001b[38;5;132;01m%.3f\u001b[39;00m\u001b[38;5;124m, R^2 test: \u001b[39m\u001b[38;5;132;01m%.3f\u001b[39;00m\u001b[38;5;124m'\u001b[39m \u001b[38;5;241m%\u001b[39m (\n\u001b[0;32m     34\u001b[0m       (metrics\u001b[38;5;241m.\u001b[39mr2_score(ytrain, y_train_predict)), \n\u001b[0;32m     35\u001b[0m       (metrics\u001b[38;5;241m.\u001b[39mr2_score(ytest, y_test_predict))))\n\u001b[1;32m---> 37\u001b[0m dtrg_metrics \u001b[38;5;241m=\u001b[39m get_regression_metrics(\u001b[38;5;124m'\u001b[39m\u001b[38;5;124mDecision Tree Regression\u001b[39m\u001b[38;5;124m'\u001b[39m, \u001b[43my_test\u001b[49m, y_test_predict)\n\u001b[0;32m     38\u001b[0m dtrg_metrics\n",
      "\u001b[1;31mNameError\u001b[0m: name 'y_test' is not defined"
     ]
    }
   ],
   "source": [
    "\n",
    "def get_regression_metrics(model, actual, predicted):\n",
    "    \n",
    "    \"\"\"Calculate main regression metrics.\n",
    "    \n",
    "    Args:\n",
    "        model (str): The model name identifier\n",
    "        actual (series): Contains the test label values\n",
    "        predicted (series): Contains the predicted values\n",
    "        \n",
    "    Returns:\n",
    "        dataframe: The combined metrics in single dataframe\n",
    "    \n",
    "    \n",
    "    \"\"\"\n",
    "    regr_metrics = {\n",
    "                        'Root Mean Squared Error' : metrics.mean_squared_error(actual, predicted)**0.5,\n",
    "                        'Mean Absolute Error' : metrics.mean_absolute_error(actual, predicted),\n",
    "                        'R^2' : metrics.r2_score(actual, predicted),\n",
    "                        'Explained Variance' : metrics.explained_variance_score(actual, predicted)\n",
    "                   }\n",
    "\n",
    "    #return reg_metrics\n",
    "    df_regr_metrics = pd.DataFrame.from_dict(regr_metrics, orient='index')\n",
    "    df_regr_metrics.columns = [model]\n",
    "    return df_regr_metrics\n",
    "\n",
    "###############################################################################################################################\n",
    "dtrg = DecisionTreeRegressor(max_depth=7, random_state=123)\n",
    "dtrg.fit(x_norm, ytrain)\n",
    "\n",
    "y_test_predict = dtrg.predict(xtest_norm)\n",
    "y_train_predict = dtrg.predict(x_norm)\n",
    "\n",
    "print('R^2 training: %.3f, R^2 test: %.3f' % (\n",
    "      (metrics.r2_score(ytrain, y_train_predict)), \n",
    "      (metrics.r2_score(ytest, y_test_predict))))\n",
    "\n",
    "dtrg_metrics = get_regression_metrics('Decision Tree Regression', y_test, y_test_predict)\n",
    "dtrg_metrics"
   ]
  },
  {
   "cell_type": "code",
   "execution_count": null,
   "id": "b49bc14e",
   "metadata": {},
   "outputs": [],
   "source": []
  },
  {
   "cell_type": "code",
   "execution_count": null,
   "id": "ba2df50b",
   "metadata": {},
   "outputs": [],
   "source": []
  }
 ],
 "metadata": {
  "kernelspec": {
   "display_name": "Python 3 (ipykernel)",
   "language": "python",
   "name": "python3"
  },
  "language_info": {
   "codemirror_mode": {
    "name": "ipython",
    "version": 3
   },
   "file_extension": ".py",
   "mimetype": "text/x-python",
   "name": "python",
   "nbconvert_exporter": "python",
   "pygments_lexer": "ipython3",
   "version": "3.10.0"
  }
 },
 "nbformat": 4,
 "nbformat_minor": 5
}
